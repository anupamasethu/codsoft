{
 "cells": [
  {
   "cell_type": "code",
   "execution_count": 3,
   "id": "90e3e0f8-e8bb-4c49-99f5-da61176af0d1",
   "metadata": {},
   "outputs": [
    {
     "name": "stdin",
     "output_type": "stream",
     "text": [
      "Enter password length:  8\n",
      "Include digits? (yes/no):  yes\n",
      "Include special characters? (yes/no):  yes\n"
     ]
    },
    {
     "name": "stdout",
     "output_type": "stream",
     "text": [
      "Generated Password: #\"<.WF0t\n"
     ]
    }
   ],
   "source": [
    "import random\n",
    "import string\n",
    "\n",
    "def generate_password(length, use_digits, use_special_chars):\n",
    "    if length <= 0:\n",
    "        return \"Password length must be greater than 0\"\n",
    "\n",
    "    characters = string.ascii_letters\n",
    "    if use_digits:\n",
    "        characters += string.digits\n",
    "    if use_special_chars:\n",
    "        characters += string.punctuation\n",
    "\n",
    "    if not characters:\n",
    "        return \"No character types selected for the password.\"\n",
    "\n",
    "    password = ''.join(random.choice(characters) for _ in range(length))\n",
    "    return password\n",
    "\n",
    "def main():\n",
    "    length = int(input(\"Enter password length: \"))\n",
    "    if length <= 0:\n",
    "        print(\"Password length must be greater than 0.\")\n",
    "        return\n",
    "\n",
    "    use_digits = input(\"Include digits? (yes/no): \").strip().lower() == 'yes'\n",
    "    use_special_chars = input(\"Include special characters? (yes/no): \").strip().lower() == 'yes'\n",
    "\n",
    "    password = generate_password(length, use_digits, use_special_chars)\n",
    "    print(\"Generated Password:\", password)\n",
    "\n",
    "# Call the main function to execute the code\n",
    "main()\n",
    "\n"
   ]
  },
  {
   "cell_type": "code",
   "execution_count": null,
   "id": "f1bad389-131b-40bb-b515-2e4a51c7010a",
   "metadata": {},
   "outputs": [],
   "source": []
  }
 ],
 "metadata": {
  "kernelspec": {
   "display_name": "Python 3 (ipykernel)",
   "language": "python",
   "name": "python3"
  },
  "language_info": {
   "codemirror_mode": {
    "name": "ipython",
    "version": 3
   },
   "file_extension": ".py",
   "mimetype": "text/x-python",
   "name": "python",
   "nbconvert_exporter": "python",
   "pygments_lexer": "ipython3",
   "version": "3.11.9"
  }
 },
 "nbformat": 4,
 "nbformat_minor": 5
}
