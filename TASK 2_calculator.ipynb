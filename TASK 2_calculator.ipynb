{
 "cells": [
  {
   "cell_type": "code",
   "execution_count": 2,
   "id": "e52dc836-0f22-430a-a0d1-03f68d72bea8",
   "metadata": {},
   "outputs": [
    {
     "name": "stdout",
     "output_type": "stream",
     "text": [
      "\n",
      "Simple Calculator\n",
      "Select operation:\n",
      "1. Addition\n",
      "2. Subtraction\n",
      "3. Multiplication\n",
      "4. Division\n",
      "5. Exit\n"
     ]
    },
    {
     "name": "stdin",
     "output_type": "stream",
     "text": [
      "Enter operation number (1/2/3/4/5):  1\n",
      "Enter first number:  12\n",
      "Enter second number:  4.6\n"
     ]
    },
    {
     "name": "stdout",
     "output_type": "stream",
     "text": [
      "Result: 12.0 + 4.6 = 16.6\n",
      "\n",
      "Simple Calculator\n",
      "Select operation:\n",
      "1. Addition\n",
      "2. Subtraction\n",
      "3. Multiplication\n",
      "4. Division\n",
      "5. Exit\n"
     ]
    },
    {
     "name": "stdin",
     "output_type": "stream",
     "text": [
      "Enter operation number (1/2/3/4/5):  2\n",
      "Enter first number:  40\n",
      "Enter second number:  90\n"
     ]
    },
    {
     "name": "stdout",
     "output_type": "stream",
     "text": [
      "Result: 40.0 - 90.0 = -50.0\n",
      "\n",
      "Simple Calculator\n",
      "Select operation:\n",
      "1. Addition\n",
      "2. Subtraction\n",
      "3. Multiplication\n",
      "4. Division\n",
      "5. Exit\n"
     ]
    },
    {
     "name": "stdin",
     "output_type": "stream",
     "text": [
      "Enter operation number (1/2/3/4/5):  5\n"
     ]
    },
    {
     "name": "stdout",
     "output_type": "stream",
     "text": [
      "Exiting calculator. Goodbye!\n"
     ]
    }
   ],
   "source": [
    "def add(a, b):\n",
    "    return a + b\n",
    "\n",
    "def sub(a, b):\n",
    "    return a - b\n",
    "\n",
    "def mul(a, b):\n",
    "    return a * b\n",
    "\n",
    "def div(a, b):\n",
    "    if b != 0:\n",
    "        return a / b  # Use / for float division\n",
    "    else:\n",
    "        return \"Error: Division by zero is not allowed.\"\n",
    "\n",
    "def calculator():\n",
    "    while True:\n",
    "        print(\"\\nSimple Calculator\")\n",
    "        print(\"Select operation:\")\n",
    "        print(\"1. Addition\")\n",
    "        print(\"2. Subtraction\")\n",
    "        print(\"3. Multiplication\")\n",
    "        print(\"4. Division\")\n",
    "        print(\"5. Exit\")\n",
    "\n",
    "        # Get user input\n",
    "        operation = int(input(\"Enter operation number (1/2/3/4/5): \"))\n",
    "        \n",
    "        if operation == 5:\n",
    "            print(\"Exiting calculator. Goodbye!\")\n",
    "            break\n",
    "        \n",
    "        if operation in [1, 2, 3, 4]:\n",
    "            try:\n",
    "                a = float(input(\"Enter first number: \"))\n",
    "                b = float(input(\"Enter second number: \"))\n",
    "\n",
    "                if operation == 1:\n",
    "                    result = add(a, b)\n",
    "                    print(f\"Result: {a} + {b} = {result}\")\n",
    "                elif operation == 2:\n",
    "                    result = sub(a, b)\n",
    "                    print(f\"Result: {a} - {b} = {result}\")\n",
    "                elif operation == 3:\n",
    "                    result = mul(a, b)\n",
    "                    print(f\"Result: {a} * {b} = {result}\")\n",
    "                elif operation == 4:\n",
    "                    result = div(a, b)\n",
    "                    print(f\"Result: {a} / {b} = {result}\")\n",
    "\n",
    "            except ValueError:\n",
    "                print(\"Error: Invalid input. Please enter numeric values.\")\n",
    "        else:\n",
    "            print(\"Invalid operation choice. Please enter a number between 1 and 5.\")\n",
    "\n",
    "# Run the calculator\n",
    "calculator()\n"
   ]
  },
  {
   "cell_type": "code",
   "execution_count": null,
   "id": "d5aa8441-ccce-4cdd-b42b-9d2423a0c0a2",
   "metadata": {},
   "outputs": [],
   "source": []
  }
 ],
 "metadata": {
  "kernelspec": {
   "display_name": "Python 3 (ipykernel)",
   "language": "python",
   "name": "python3"
  },
  "language_info": {
   "codemirror_mode": {
    "name": "ipython",
    "version": 3
   },
   "file_extension": ".py",
   "mimetype": "text/x-python",
   "name": "python",
   "nbconvert_exporter": "python",
   "pygments_lexer": "ipython3",
   "version": "3.11.9"
  }
 },
 "nbformat": 4,
 "nbformat_minor": 5
}
