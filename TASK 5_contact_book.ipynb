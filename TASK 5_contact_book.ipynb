{
 "cells": [
  {
   "cell_type": "code",
   "execution_count": 3,
   "id": "bda9a437-fb97-41cf-96e2-a3d4ca4cbdfb",
   "metadata": {},
   "outputs": [
    {
     "name": "stdout",
     "output_type": "stream",
     "text": [
      "\n",
      "Contact Book Menu:\n",
      "1. Add Contact\n",
      "2. View Contacts\n",
      "3. Search Contact\n",
      "4. Update Contact\n",
      "5. Delete Contact\n",
      "6. Exit\n"
     ]
    },
    {
     "name": "stdin",
     "output_type": "stream",
     "text": [
      "Choose an option:  1\n",
      "Enter contact name:  Anupama\n",
      "Enter phone type (mobile/telephone):  mobile\n",
      "Enter mobile number:  1234567890\n"
     ]
    },
    {
     "name": "stdout",
     "output_type": "stream",
     "text": [
      "Contact added successfully.\n",
      "\n",
      "Contact Book Menu:\n",
      "1. Add Contact\n",
      "2. View Contacts\n",
      "3. Search Contact\n",
      "4. Update Contact\n",
      "5. Delete Contact\n",
      "6. Exit\n"
     ]
    },
    {
     "name": "stdin",
     "output_type": "stream",
     "text": [
      "Choose an option:  6\n"
     ]
    },
    {
     "name": "stdout",
     "output_type": "stream",
     "text": [
      "Exiting the program.\n"
     ]
    }
   ],
   "source": [
    "import re\n",
    "\n",
    "class ContactBook:\n",
    "    def __init__(self):\n",
    "        self.contacts = {}\n",
    "\n",
    "    def add_contact(self, name, phone, phone_type):\n",
    "        if self.validate_phone(phone, phone_type):\n",
    "            self.contacts[name] = (phone, phone_type)\n",
    "            print(\"Contact added successfully.\")\n",
    "        else:\n",
    "            print(\"Invalid phone number. Please enter a valid 10-digit mobile number or 11-digit telephone number.\")\n",
    "\n",
    "    def view_contacts(self):\n",
    "        if not self.contacts:\n",
    "            print(\"No contacts found.\")\n",
    "        for name, (phone, phone_type) in self.contacts.items():\n",
    "            print(f\"{name}: {phone} ({phone_type})\")\n",
    "\n",
    "    def search_contact(self, query):\n",
    "        results = [f\"{name}: {phone} ({phone_type})\" for name, (phone, phone_type) in self.contacts.items() if query.lower() in name.lower() or query in phone]\n",
    "        if results:\n",
    "            print(\"\\n\".join(results))\n",
    "        else:\n",
    "            print(\"No contacts found.\")\n",
    "\n",
    "    def update_contact(self, name, phone, phone_type):\n",
    "        if name in self.contacts:\n",
    "            if self.validate_phone(phone, phone_type):\n",
    "                self.contacts[name] = (phone, phone_type)\n",
    "                print(\"Contact updated successfully.\")\n",
    "            else:\n",
    "                print(\"Invalid phone number. Please enter a valid 10-digit mobile number or 11-digit telephone number.\")\n",
    "        else:\n",
    "            print(\"Contact not found.\")\n",
    "\n",
    "    def delete_contact(self, name):\n",
    "        if name in self.contacts:\n",
    "            del self.contacts[name]\n",
    "            print(\"Contact deleted successfully.\")\n",
    "        else:\n",
    "            print(\"Contact not found.\")\n",
    "\n",
    "    def validate_phone(self, phone, phone_type):\n",
    "        if phone_type == 'mobile':\n",
    "            return bool(re.match(r\"^\\d{10}$\", phone))\n",
    "        elif phone_type == 'telephone':\n",
    "            return bool(re.match(r\"^\\d{11}$\", phone))\n",
    "        else:\n",
    "            return False\n",
    "\n",
    "def get_valid_input(prompt, validator=None):\n",
    "    while True:\n",
    "        user_input = input(prompt)\n",
    "        if validator:\n",
    "            if validator(user_input):\n",
    "                return user_input\n",
    "            else:\n",
    "                print(\"Invalid input. Please try again.\")\n",
    "        else:\n",
    "            return user_input\n",
    "\n",
    "def get_valid_phone_number(phone_type):\n",
    "    while True:\n",
    "        phone = get_valid_input(f\"Enter {phone_type} number: \", lambda x: x.strip() != \"\")\n",
    "        if phone_type == 'mobile' and re.match(r\"^\\d{10}$\", phone):\n",
    "            return phone\n",
    "        elif phone_type == 'telephone' and re.match(r\"^\\d{11}$\", phone):\n",
    "            return phone\n",
    "        else:\n",
    "            print(f\"Invalid {phone_type} number. Please enter a valid {10 if phone_type == 'mobile' else 11}-digit number.\")\n",
    "\n",
    "def main():\n",
    "    contact_book = ContactBook()\n",
    "    while True:\n",
    "        print(\"\\nContact Book Menu:\")\n",
    "        print(\"1. Add Contact\")\n",
    "        print(\"2. View Contacts\")\n",
    "        print(\"3. Search Contact\")\n",
    "        print(\"4. Update Contact\")\n",
    "        print(\"5. Delete Contact\")\n",
    "        print(\"6. Exit\")\n",
    "\n",
    "        choice = get_valid_input(\"Choose an option: \", lambda x: x in {\"1\", \"2\", \"3\", \"4\", \"5\", \"6\"})\n",
    "\n",
    "        if choice == \"1\":\n",
    "            name = get_valid_input(\"Enter contact name: \", lambda x: x.strip() != \"\")\n",
    "            phone_type = get_valid_input(\"Enter phone type (mobile/telephone): \", lambda x: x in {\"mobile\", \"telephone\"})\n",
    "            phone = get_valid_phone_number(phone_type)\n",
    "            contact_book.add_contact(name, phone, phone_type)\n",
    "        elif choice == \"2\":\n",
    "            contact_book.view_contacts()\n",
    "        elif choice == \"3\":\n",
    "            query = get_valid_input(\"Enter name or phone number to search: \", lambda x: x.strip() != \"\")\n",
    "            contact_book.search_contact(query)\n",
    "        elif choice == \"4\":\n",
    "            name = get_valid_input(\"Enter contact name to update: \", lambda x: x.strip() != \"\")\n",
    "            if name in contact_book.contacts:\n",
    "                phone_type = get_valid_input(\"Enter new phone type (mobile/telephone): \", lambda x: x in {\"mobile\", \"telephone\"})\n",
    "                phone = get_valid_phone_number(phone_type)\n",
    "                contact_book.update_contact(name, phone, phone_type)\n",
    "            else:\n",
    "                print(\"Contact not found.\")\n",
    "        elif choice == \"5\":\n",
    "            name = get_valid_input(\"Enter contact name to delete: \", lambda x: x.strip() != \"\")\n",
    "            contact_book.delete_contact(name)\n",
    "        elif choice == \"6\":\n",
    "            print(\"Exiting the program.\")\n",
    "            break\n",
    "\n"
   ]
  },
  {
   "cell_type": "code",
   "execution_count": null,
   "id": "c3be2278-c8b0-4c5b-bac4-df1096425db5",
   "metadata": {},
   "outputs": [],
   "source": []
  }
 ],
 "metadata": {
  "kernelspec": {
   "display_name": "Python 3 (ipykernel)",
   "language": "python",
   "name": "python3"
  },
  "language_info": {
   "codemirror_mode": {
    "name": "ipython",
    "version": 3
   },
   "file_extension": ".py",
   "mimetype": "text/x-python",
   "name": "python",
   "nbconvert_exporter": "python",
   "pygments_lexer": "ipython3",
   "version": "3.11.9"
  }
 },
 "nbformat": 4,
 "nbformat_minor": 5
}
